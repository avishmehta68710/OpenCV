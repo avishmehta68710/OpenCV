{
 "metadata": {
  "language_info": {
   "codemirror_mode": {
    "name": "ipython",
    "version": 3
   },
   "file_extension": ".py",
   "mimetype": "text/x-python",
   "name": "python",
   "nbconvert_exporter": "python",
   "pygments_lexer": "ipython3",
   "version": "3.9.2-final"
  },
  "orig_nbformat": 2,
  "kernelspec": {
   "name": "python3",
   "display_name": "Python 3",
   "language": "python"
  }
 },
 "nbformat": 4,
 "nbformat_minor": 2,
 "cells": [
  {
   "cell_type": "code",
   "execution_count": 1,
   "metadata": {},
   "outputs": [],
   "source": [
    "import cv2\n",
    "import numpy as np\n",
    "import pandas as pd\n",
    "from matplotlib import pyplot as plt"
   ]
  },
  {
   "source": [
    "# Exceptions in Opencv\n",
    "### 1. Default colour code is BGR not RGB. convert the picture from BGR to RGB using cv2.cvtColor(image_name,cv2.COLOR_BGR2RGB) or reverse the channel using [[::-1]]\n",
    "### 2. the shape of the image given by numpy is in (width,height,channel)\n",
    "### 3. the width and height taken by Opencv is (height,width,channel)"
   ],
   "cell_type": "markdown",
   "metadata": {}
  },
  {
   "cell_type": "code",
   "execution_count": 3,
   "metadata": {},
   "outputs": [],
   "source": [
    "img = cv2.imread('./images/lena.png') # reading the image \n",
    "cv2.imshow(\"Lenna\",img) # displaying the image\n",
    "if cv2.waitKey(0) & 0xFF == ord('q'):\n",
    "    cv2.destroyAllWindows() "
   ]
  },
  {
   "cell_type": "code",
   "execution_count": 4,
   "metadata": {},
   "outputs": [],
   "source": [
    "# converting an image to grayscale image\n",
    "img_gray = cv2.cvtColor(img,cv2.COLOR_BGR2GRAY)\n",
    "cv2.imshow(\"Gray Scale Image\",img_gray)\n",
    "if cv2.waitKey(0) & 0xFF == ord('q'):\n",
    "    cv2.destroyAllWindows()"
   ]
  },
  {
   "cell_type": "code",
   "execution_count": 5,
   "metadata": {},
   "outputs": [
    {
     "output_type": "execute_result",
     "data": {
      "text/plain": [
       "True"
      ]
     },
     "metadata": {},
     "execution_count": 5
    }
   ],
   "source": [
    "# saving the image\n",
    "cv2.imwrite(\"Lenna_Grayscale.png\",img_gray)"
   ]
  },
  {
   "cell_type": "code",
   "execution_count": 6,
   "metadata": {},
   "outputs": [],
   "source": [
    "# cv2.IMREAD_COLOR - loads a color image and trasparency of the image is neglected, default flag = 1\n",
    "# cv2.IMREAD_GRAYSCALE - loads the image in grayscale mode, default flag = 0\n",
    "# cv2.IMREAD_UNCHANGED - loads the image as such including the alpha channel, default flag = -1"
   ]
  },
  {
   "cell_type": "code",
   "execution_count": 7,
   "metadata": {},
   "outputs": [],
   "source": [
    "# reading images in different mode without flag\n",
    "img_unchanged = cv2.imread('./images/lena.png',cv2.IMREAD_UNCHANGED)\n",
    "img_grayscale = cv2.imread('./images/lena.png',cv2.IMREAD_GRAYSCALE)\n",
    "img_color = cv2.imread('./images/lena.png',cv2.IMREAD_COLOR)\n",
    "cv2.imshow(\"Image Unchanged\",img_unchanged)\n",
    "cv2.imshow(\"Image Grayscale\",img_grayscale)\n",
    "cv2.imshow(\"Image color\",img_color)\n",
    "if cv2.waitKey(0) & 0xFF == ord('q'):\n",
    "    cv2.destroyAllWindows()"
   ]
  },
  {
   "cell_type": "code",
   "execution_count": 8,
   "metadata": {},
   "outputs": [],
   "source": [
    "# reading the images in different modes using flags\n",
    "img_unchange = cv2.imread('./images/lena.png',1)\n",
    "img_grayscales = cv2.imread('./images/lena.png',0)\n",
    "img_colors = cv2.imread('./images/lena.png',-1)\n",
    "cv2.imshow(\"Image Unchanged\",img_unchange)\n",
    "cv2.imshow(\"Image Grayscale\",img_grayscales)\n",
    "cv2.imshow(\"Image color\",img_colors)\n",
    "if cv2.waitKey(0) & 0xFF == ord('q'):\n",
    "    cv2.destroyAllWindows()"
   ]
  },
  {
   "cell_type": "code",
   "execution_count": 13,
   "metadata": {},
   "outputs": [
    {
     "output_type": "stream",
     "name": "stdout",
     "text": [
      "(512, 512, 3)\n"
     ]
    }
   ],
   "source": [
    "# making images using numpy\n",
    "img_black = np.zeros((512,512,3),np.uint8) # creates a black image \n",
    "print(img_black.shape)\n",
    "cv2.imshow(\"image black\",img_black)\n",
    "if cv2.waitKey(0) & 0xFF == ord('q'):\n",
    "    cv2.destroyAllWindows()"
   ]
  },
  {
   "cell_type": "code",
   "execution_count": null,
   "metadata": {},
   "outputs": [],
   "source": []
  }
 ]
}