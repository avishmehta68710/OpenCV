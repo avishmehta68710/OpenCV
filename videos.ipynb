{
 "metadata": {
  "language_info": {
   "codemirror_mode": {
    "name": "ipython",
    "version": 3
   },
   "file_extension": ".py",
   "mimetype": "text/x-python",
   "name": "python",
   "nbconvert_exporter": "python",
   "pygments_lexer": "ipython3",
   "version": "3.9.2-final"
  },
  "orig_nbformat": 2,
  "kernelspec": {
   "name": "python3",
   "display_name": "Python 3",
   "language": "python"
  }
 },
 "nbformat": 4,
 "nbformat_minor": 2,
 "cells": [
  {
   "cell_type": "code",
   "execution_count": 2,
   "metadata": {},
   "outputs": [],
   "source": [
    "import cv2\n",
    "import numpy as np\n",
    "import pandas as pd\n",
    "from matplotlib import pyplot as plt"
   ]
  },
  {
   "source": [
    "# Right Code"
   ],
   "cell_type": "markdown",
   "metadata": {}
  },
  {
   "cell_type": "code",
   "execution_count": 4,
   "metadata": {},
   "outputs": [
    {
     "output_type": "stream",
     "name": "stdout",
     "text": [
      "320.0\n240.0\n"
     ]
    }
   ],
   "source": [
    "video = cv2.VideoCapture(0) # id number of the camera. built in camera - 0\n",
    "video.set(3,320) # to set the width of the vedio to 320\n",
    "video.set(4,240) # to set the height of the vedio to 240\n",
    "while True:\n",
    "    ret,frame = video.read() # ret returs boolean value. if true then it reads frame else break\n",
    "    cv2.imshow(\"vedio\",frame)\n",
    "    if cv2.waitKey(1) % 0xFF == ord('q'):\n",
    "        break\n",
    "print(video.get(3)) # returns the width of the vedio\n",
    "print(video.get(4)) # return the height of the vedio\n",
    "video.release()\n",
    "cv2.destroyAllWindows()"
   ]
  },
  {
   "cell_type": "code",
   "execution_count": 3,
   "metadata": {},
   "outputs": [],
   "source": [
    "# to change the colors of the vedio\n",
    "vedios = cv2.VideoCapture(0)\n",
    "while True:\n",
    "    ret,frame = vedios.read()\n",
    "    gray = cv2.cvtColor(frame, cv2.COLOR_BGR2GRAY)\n",
    "    cv2.imshow(\"vedio\",gray)\n",
    "    if cv2.waitKey(1) & 0xFF == ord('q'):\n",
    "        break\n",
    "vedios.release()\n",
    "cv2.destroyAllWindows()"
   ]
  },
  {
   "source": [
    "# Wrong Code"
   ],
   "cell_type": "markdown",
   "metadata": {}
  },
  {
   "cell_type": "code",
   "execution_count": 3,
   "metadata": {},
   "outputs": [],
   "source": [
    "vedio = cv2.VideoCapture(0)\n",
    "while True:\n",
    "    ret,frame = vedio.read()\n",
    "    cv2.imshow(\"vedio\",frame)\n",
    "    if cv2.waitKey(0) & 0xFF == ord('q'):\n",
    "        break\n",
    "cv2.destroyAllWindows()"
   ]
  },
  {
   "source": [
    "### Fun Fact1 - in the above code, the first frame is only displayed and will stay for infinite time and if u press q then the loop breaks and all windows are closed\n",
    "### Reason - the waitkey is set to infinite. when first frame comes in it stays for infinite time and second frame cant come\n",
    "### Correction - the waitkey should be set to greater than 0 so that frames can move \n"
   ],
   "cell_type": "markdown",
   "metadata": {}
  },
  {
   "source": [
    "# To check whether the video is initialized or not \n"
   ],
   "cell_type": "markdown",
   "metadata": {}
  },
  {
   "cell_type": "code",
   "execution_count": 8,
   "metadata": {},
   "outputs": [
    {
     "output_type": "stream",
     "name": "stdout",
     "text": [
      "False\nFalse\n"
     ]
    }
   ],
   "source": [
    "vedios = cv2.VideoCapture(0)\n",
    "print(vedios.isOpened())\n",
    "# if true that meanse it is initialized \n",
    "video_check = cv2.VideoCapture(1)\n",
    "print(video_check.isOpened())"
   ]
  },
  {
   "source": [
    "# To initialize the vedio"
   ],
   "cell_type": "markdown",
   "metadata": {}
  },
  {
   "cell_type": "code",
   "execution_count": 13,
   "metadata": {},
   "outputs": [
    {
     "output_type": "execute_result",
     "data": {
      "text/plain": [
       "False"
      ]
     },
     "metadata": {},
     "execution_count": 13
    }
   ],
   "source": [
    "vedio_open = cv2.VideoCapture(0)\n",
    "vedio_open.open(0) # id of the camera"
   ]
  },
  {
   "source": [
    "# Propoerty Identifier for videos"
   ],
   "cell_type": "markdown",
   "metadata": {}
  },
  {
   "source": [
    "Syntax for calling is video_name.get(index number)\n",
    "\n",
    "### 0.    CV_CAP_PROP_POS_MSEC -> Current position of the video file in milliseconds.\n",
    "### 1.    CV_CAP_PROP_POS_FRAMES -> 0-based index of the frame to be decoded/captured next.\n",
    "### 2.    CV_CAP_PROP_POS_AVI_RATIO  -> Relative position of the video file: 0 - start of the film, 1 - end of the film.\n",
    "### 3.    CV_CAP_PROP_FRAME_WIDTH -> Width of the frames in the video stream.\n",
    "### 4.    CV_CAP_PROP_FRAME_HEIGHT -> Height of the frames in the video stream.\n",
    "### 5.    CV_CAP_PROP_FPS -> Frame rate.\n",
    "### 6.    CV_CAP_PROP_FOURCC ->  4-character code of codec.\n",
    "### 7.    CV_CAP_PROP_FRAME_COUNT ->  Number of frames in the video file.\n",
    "### 8.    CV_CAP_PROP_FORMAT -> Format of the Mat objects returned by retrieve() .\n",
    "### 9.    CV_CAP_PROP_MODE -> Backend-specific value indicating the current capture mode.\n",
    "### 10.    CV_CAP_PROP_BRIGHTNESS -> Brightness of the image (only for cameras).\n",
    "### 11.    CV_CAP_PROP_CONTRAST -> Contrast of the image (only for cameras).\n",
    "### 12.    CV_CAP_PROP_SATURATION -> Saturation of the image (only for cameras).\n",
    "### 13.    CV_CAP_PROP_HUE -> Hue of the image (only for cameras).\n",
    "### 14.    CV_CAP_PROP_GAIN -> Gain of the image (only for cameras).\n",
    "### 15.    CV_CAP_PROP_EXPOSURE -> Exposure (only for cameras).\n",
    "### 16.    CV_CAP_PROP_CONVERT_RGB -> Boolean flags indicating whether images should be converted to RGB.\n",
    "### 17.    CV_CAP_PROP_WHITE_BALANCE_U -> The U value of the whitebalance setting (note: only supported by DC1394 v 2.x backend currently)\n",
    "### 18.    CV_CAP_PROP_WHITE_BALANCE_V -> The V value of the whitebalance setting (note: only supported by DC1394 v 2.x backend currently)\n",
    "### 19.    CV_CAP_PROP_RECTIFICATION -> Rectification flag for stereo cameras (note: only supported by DC1394 v 2.x backend currently)\n",
    "### 20.    CV_CAP_PROP_ISO_SPEED -> The ISO speed of the camera (note: only supported by DC1394 v 2.x backend currently)\n",
    "### 21.    CV_CAP_PROP_BUFFERSIZE -> Amount of frames stored in internal buffer memory (note: only supported by DC1394 v 2.x backend currently"
   ],
   "cell_type": "markdown",
   "metadata": {}
  },
  {
   "source": [
    "# Saving the video"
   ],
   "cell_type": "markdown",
   "metadata": {}
  },
  {
   "cell_type": "code",
   "execution_count": 12,
   "metadata": {},
   "outputs": [],
   "source": [
    "cap = cv2.VideoCapture(0)\n",
    "fourcc = cv2.VideoWriter_fourcc(*'XVID') # fourcc code - 4 byte code to specifiy vedio codec.for linux -  ex-XVID(preferred),MJPG(high size vedio),X264(vedio size small), for windows - DIVX\n",
    "out = cv2.VideoWriter('video.avi',fourcc,20.0,(640,640),isColor=True) # parameters - name of file, fourcc code, frames per second, frame size, default is grayscale(for color use isColor flag = True)\n",
    "while cap.isOpened():\n",
    "    ret,frame = cap.read()\n",
    "    if ret == True:\n",
    "        # to flip frame in vertical use frame = cv2.flip(frame,0)\n",
    "        # to flip the fram in horizzontal use frame = cv2.flip(frame,1)\n",
    "        out.write(frame)\n",
    "        frame = cv2.imshow(\"frame\",frame)\n",
    "        if cv2.waitKey(1) & 0xFF == ord('q'):\n",
    "            break\n",
    "    else:\n",
    "        break\n",
    "cap.release()\n",
    "cv2.destroyAllWindows()"
   ]
  }
 ]
}