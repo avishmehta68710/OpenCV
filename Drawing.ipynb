{
 "metadata": {
  "language_info": {
   "codemirror_mode": {
    "name": "ipython",
    "version": 3
   },
   "file_extension": ".py",
   "mimetype": "text/x-python",
   "name": "python",
   "nbconvert_exporter": "python",
   "pygments_lexer": "ipython3",
   "version": "3.9.2-final"
  },
  "orig_nbformat": 2,
  "kernelspec": {
   "name": "python3",
   "display_name": "Python 3",
   "language": "python"
  }
 },
 "nbformat": 4,
 "nbformat_minor": 2,
 "cells": [
  {
   "cell_type": "code",
   "execution_count": 1,
   "metadata": {},
   "outputs": [],
   "source": [
    "import cv2\n",
    "import numpy as np\n",
    "import pandas as pd\n",
    "from matplotlib import pyplot as plt\n",
    "import imutils"
   ]
  },
  {
   "source": [
    "# Drawing Lines\n",
    "### Parameters - image source , starting and ending coordinates, colour of the line, thickness (if -1 it will fill the image)\n",
    "### Types of Lines - cv2.LINE_AA (Anti-Aliasing Line for curves), cv2.FILLED, cv2.LINE_4(4 connected line), cv2.LINE_8(8 connected lines, default)"
   ],
   "cell_type": "markdown",
   "metadata": {}
  },
  {
   "cell_type": "code",
   "execution_count": 4,
   "metadata": {},
   "outputs": [],
   "source": [
    "img = np.zeros((512,512,3),np.uint8)\n",
    "img_line = cv2.line(img,(0,0),(512,512),(255,0,0),thickness=20,)\n",
    "cv2.imshow(\"Image\",img_line)\n",
    "if cv2.waitKey(0) & 0xFF == ord('q'):\n",
    "    cv2.destroyAllWindows()"
   ]
  },
  {
   "cell_type": "code",
   "execution_count": 3,
   "metadata": {},
   "outputs": [
    {
     "output_type": "stream",
     "name": "stdout",
     "text": [
      "(800, 1200, 3)\n(800, 1200, 3) 800 1200\n"
     ]
    }
   ],
   "source": [
    "img = cv2.imread('./images/messi.png')\n",
    "print(img.shape)\n",
    "width = img.shape[0]\n",
    "height = img.shape[1]\n",
    "print(img.shape,width,height)\n",
    "img_lines = cv2.line(img,(0,0),(1200,800),(255,0,0),thickness=5,lineType=cv2.LINE_4)\n",
    "cv2.imshow(\"Image\",img_lines)\n",
    "if cv2.waitKey(0) & 0xFF == ord('q'):\n",
    "    cv2.destroyAllWindows()"
   ]
  },
  {
   "source": [
    "# Drawing Rectangles\n",
    "### parameters - top-left corner, bottom-right corner, color, thickness (negative integer will fill the figure with the color)"
   ],
   "cell_type": "markdown",
   "metadata": {}
  },
  {
   "cell_type": "code",
   "execution_count": 6,
   "metadata": {},
   "outputs": [],
   "source": [
    "img = np.zeros((512,512,3),np.uint8)\n",
    "img_rect = cv2.rectangle(img,(50,50),(410,410),(255,255,255),-3) \n",
    "cv2.imshow(\"Image Rectangle\",img_rect)\n",
    "if cv2.waitKey(0) & 0xFF == ord('q'):\n",
    "    cv2.destroyAllWindows()"
   ]
  },
  {
   "cell_type": "code",
   "execution_count": 9,
   "metadata": {},
   "outputs": [],
   "source": [
    "img = cv2.imread('./images/mercedes.png')\n",
    "width = img.shape[0]\n",
    "height = img.shape[1]\n",
    "img_rects = cv2.rectangle(img,(10,10),(height//4,width//4),(0,0,0),3)\n",
    "cv2.imshow(\"image rect\",img_rects)\n",
    "if cv2.waitKey(0) & 0xFF == ord('q'):\n",
    "    cv2.destroyAllWindows()"
   ]
  },
  {
   "source": [
    "# Drawing Circle\n",
    "### Paramters - Center Coordinates,Radius,color, thickness (if negative integer then it will fill the figure with the color)"
   ],
   "cell_type": "markdown",
   "metadata": {}
  },
  {
   "cell_type": "code",
   "execution_count": 13,
   "metadata": {},
   "outputs": [],
   "source": [
    "img = np.zeros((512,512,3),np.uint8)\n",
    "img_circle = cv2.circle(img,(256,256),100,(255,255,255),-3)\n",
    "cv2.imshow(\"Image Circle\",img_circle)\n",
    "if cv2.waitKey(0) & 0xFF == ord('q'):\n",
    "    cv2.destroyAllWindows()"
   ]
  },
  {
   "cell_type": "code",
   "execution_count": 19,
   "metadata": {},
   "outputs": [],
   "source": [
    "img = cv2.imread('./images/lena.png')\n",
    "widht = img.shape[0]\n",
    "height = img.shape[1]\n",
    "radius = (width+height)//2\n",
    "img_circles = cv2.circle(img,(height//8,width//8),radius,(0,0,0),3)\n",
    "cv2.imshow(\"image circle\",img_circles)\n",
    "if cv2.waitKey(0) & 0xFF == ord('q'):\n",
    "    cv2.destroyAllWindows()"
   ]
  },
  {
   "cell_type": "code",
   "execution_count": 9,
   "metadata": {},
   "outputs": [],
   "source": [
    "# Draw Cocentric Circles\n",
    "img = np.zeros((512,512,3),dtype=np.uint8)\n",
    "x = img.shape[0]\n",
    "y = img.shape[1]\n",
    "for i in range(0,512,26):\n",
    "    cv2.circle(img,(x//2,y//2),i,(255,255,255),2)\n",
    "cv2.imshow(\"Images\",img)\n",
    "if cv2.waitKey(0) & 0xFF == ord('q'):\n",
    "    cv2.destroyAllWindows()"
   ]
  },
  {
   "source": [
    "# Drawing Ellipse\n",
    "### Parameters - Center, axis length (major axis length,minor axis length), angle of rotation, start angle in clockwise direction from major axis, end angle in clockwise direction from major axis, color, thickness (negative integer same concept as up)"
   ],
   "cell_type": "markdown",
   "metadata": {}
  },
  {
   "cell_type": "code",
   "execution_count": 15,
   "metadata": {},
   "outputs": [],
   "source": [
    "img = np.zeros((512,512,3),np.uint8)\n",
    "width = img.shape[0]\n",
    "height = img.shape[1]\n",
    "img_ellipse = cv2.ellipse(img,(height//2,width//2),(200,100),30,0,360,(255,255,255),3)\n",
    "cv2.imshow(\"image\",img_ellipse)\n",
    "if cv2.waitKey(0) & 0xFF == ord('q'):\n",
    "    cv2.destroyAllWindows()"
   ]
  },
  {
   "source": [
    "# Drawing Polygons\n",
    "### Paramters - array of vertices (1*2 in size),data_type should be int32"
   ],
   "cell_type": "markdown",
   "metadata": {}
  },
  {
   "cell_type": "code",
   "execution_count": 2,
   "metadata": {},
   "outputs": [
    {
     "output_type": "execute_result",
     "data": {
      "text/plain": [
       "-1"
      ]
     },
     "metadata": {},
     "execution_count": 2
    }
   ],
   "source": [
    "img = np.zeros((512,512,3),np.uint8)\n",
    "pt = np.array([[10,50],[400,50],[90,200],[50,500]],dtype=np.int32)\n",
    "pt = pt.reshape((-1,1,2))\n",
    "cv2.polylines(img,[pt],True,(255,255,255),3) # if the third parameter is False, you get polygon joining all points but not a closed shape\n",
    "cv2.imshow(\"Images\",img)\n",
    "cv2.waitKey(2000)"
   ]
  },
  {
   "source": [
    "# Adding Text to the Images\n",
    "### Paramters - Text, Coordinates of Text, Font Type, Font Scale, Color,thickness,linetype etc\n",
    "### Types of Fonts - FONT_HERSHEY_SMPLEX, FONT_HERSHEY_PLAIN, FONT_HERSHEY_DUPLEX, FONT_HERSHEY_COMPLEX, FONT_HERSHEY_TRIPLE, FONT_HERSHEY_COMPLEX_SMALL, FONT_HERSHEY_SCRIPT_SIMPLEX, FONT_HERSHEY_SCRIPT_COMPLEX, FONT_ITALIC"
   ],
   "cell_type": "markdown",
   "metadata": {}
  },
  {
   "cell_type": "code",
   "execution_count": 10,
   "metadata": {},
   "outputs": [],
   "source": [
    "img = cv2.imread('./images/lena.png')\n",
    "width = img.shape[0]\n",
    "height = img.shape[1]\n",
    "img_text = cv2.putText(img,\"OpenCV\",(40,400),cv2.FONT_HERSHEY_COMPLEX,3,(0,0,0),4,lineType=cv2.LINE_AA)\n",
    "cv2.imshow(\"Text\",img_text)\n",
    "if cv2.waitKey(0) & 0xFF == ord('q'):\n",
    "    cv2.destroyAllWindows()"
   ]
  }
 ]
}